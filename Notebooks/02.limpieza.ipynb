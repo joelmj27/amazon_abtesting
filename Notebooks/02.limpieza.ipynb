{
 "cells": [
  {
   "cell_type": "markdown",
   "metadata": {},
   "source": [
    "# Cosas a limpiar\n",
    "- **Visit_Date** --> cambiar a tipo fecha\n",
    "- **Conversion** --> Cambiar a str??\n",
    "- **Product_category** --> Cambiar a minus\n",
    "- **Product ID** --> Cambiar a num?\n",
    "- **Product Name** --> Cambiar espacio por guíon bajo _\n",
    "- **Price** --> tiene 40 nulos. Cambiar ',' por puntos y poner float.\n",
    "- **Discount** --> tiene 40 nulos. Cambiar ',' por puntos y poner float.\n",
    "- **Total Value** --> Cambiar ',' por puntos y poner float.\n",
    "- **Payment method** --> Parece que tiene muchos nulos\n",
    "- **Shipping method** --> Parece que tiene muchos nulos\n",
    "- **Customer Age** --> Tiene 40 nulos\n",
    "- **Device** --> Escribirlo bien\n",
    "- **Cupon Used** --> Parece que tiene muchos nulos\n",
    "- **Browser** --> Cambiar categorias por estar mal escritas.\n",
    "- **Referal Source** --> Escribirlo bien"
   ]
  },
  {
   "cell_type": "code",
   "execution_count": 1,
   "metadata": {},
   "outputs": [],
   "source": [
    "import pandas as pd\n",
    "pd.set_option('display.max_columns',None)\n",
    "df_raw = pd.read_csv(\"../Data/data_raw.csv\")\n",
    "\n",
    "#Exploracion de archivos\n",
    "import sys\n",
    "sys.path.append(\"../\")\n",
    "#Funciones personalizadas\n",
    "from src import limpieza as sl"
   ]
  },
  {
   "cell_type": "code",
   "execution_count": 2,
   "metadata": {},
   "outputs": [],
   "source": [
    "df = df_raw.copy()"
   ]
  },
  {
   "cell_type": "code",
   "execution_count": 3,
   "metadata": {},
   "outputs": [],
   "source": [
    "#Cambiar los nombres de las columnas\n",
    "df.columns = df.columns.str.replace(' ','_').str.lower()"
   ]
  },
  {
   "cell_type": "code",
   "execution_count": 4,
   "metadata": {},
   "outputs": [],
   "source": [
    "# Cambiar visit_date a tipo fecha.\n",
    "df['visit_date'] = pd.to_datetime(df['visit_date'], format = '%Y-%m-%d')"
   ]
  },
  {
   "cell_type": "code",
   "execution_count": 5,
   "metadata": {},
   "outputs": [
    {
     "name": "stdout",
     "output_type": "stream",
     "text": [
      "<class 'pandas.core.frame.DataFrame'>\n",
      "RangeIndex: 2000 entries, 0 to 1999\n",
      "Data columns (total 21 columns):\n",
      " #   Column            Non-Null Count  Dtype         \n",
      "---  ------            --------------  -----         \n",
      " 0   user_id           2000 non-null   int64         \n",
      " 1   group             2000 non-null   object        \n",
      " 2   visit_date        2000 non-null   datetime64[ns]\n",
      " 3   conversion        2000 non-null   int64         \n",
      " 4   product_category  2000 non-null   object        \n",
      " 5   product_id        2000 non-null   object        \n",
      " 6   product_name      2000 non-null   object        \n",
      " 7   quantity          2000 non-null   int64         \n",
      " 8   price             1960 non-null   object        \n",
      " 9   discount          1960 non-null   object        \n",
      " 10  total_value       2000 non-null   object        \n",
      " 11  payment_method    247 non-null    object        \n",
      " 12  shipping_method   247 non-null    object        \n",
      " 13  region            2000 non-null   object        \n",
      " 14  customer_age      1960 non-null   float64       \n",
      " 15  customer_gender   2000 non-null   object        \n",
      " 16  device            2000 non-null   object        \n",
      " 17  session_duration  2000 non-null   int64         \n",
      " 18  coupon_used       247 non-null    object        \n",
      " 19  browser           2000 non-null   object        \n",
      " 20  referral_source   2000 non-null   object        \n",
      "dtypes: datetime64[ns](1), float64(1), int64(4), object(15)\n",
      "memory usage: 328.3+ KB\n"
     ]
    }
   ],
   "source": [
    "df.info()"
   ]
  },
  {
   "cell_type": "code",
   "execution_count": 6,
   "metadata": {},
   "outputs": [],
   "source": [
    "# Crear conversion str\n",
    "df['conversion_str'] = df['conversion'].apply(lambda x: 'yes' if x==1 else 'no')"
   ]
  },
  {
   "cell_type": "code",
   "execution_count": 7,
   "metadata": {},
   "outputs": [],
   "source": [
    "# Product cat cambiar fashhion\n",
    "df['product_category'] = df['product_category'].str.replace('fashhion', 'fashion')"
   ]
  },
  {
   "cell_type": "code",
   "execution_count": 8,
   "metadata": {},
   "outputs": [],
   "source": [
    "# Product Id a num\n",
    "df['product_id'] = df['product_id'].str.replace('P','')\n",
    "df['product_id'] = df['product_id'].astype('int64')"
   ]
  },
  {
   "cell_type": "code",
   "execution_count": 9,
   "metadata": {},
   "outputs": [],
   "source": [
    "# Minus de device , de referral y de browser\n",
    "# Product cat cambiar a minus \n",
    "sl.minus(df)"
   ]
  },
  {
   "cell_type": "code",
   "execution_count": 10,
   "metadata": {},
   "outputs": [],
   "source": [
    "## Price, cambiar comas por puntos y float.\n",
    "sl.comas(df)"
   ]
  },
  {
   "cell_type": "code",
   "execution_count": 11,
   "metadata": {},
   "outputs": [],
   "source": [
    "# Product name cambiar espacios por guiones bajos.\n",
    "# Paymet method espacios por guiones bajos\n",
    "sl.espacios(df)"
   ]
  },
  {
   "cell_type": "code",
   "execution_count": 12,
   "metadata": {},
   "outputs": [
    {
     "data": {
      "text/plain": [
       "array(['safaaaaari', 'ottttther', 'firefoxxxxxx', 'eddddge', 'chrooome'],\n",
       "      dtype=object)"
      ]
     },
     "execution_count": 12,
     "metadata": {},
     "output_type": "execute_result"
    }
   ],
   "source": [
    "# map de browser\n",
    "df['browser'].unique()"
   ]
  },
  {
   "cell_type": "code",
   "execution_count": 13,
   "metadata": {},
   "outputs": [],
   "source": [
    "dicc_map ={'safaaaaari': 'safari',\n",
    "           'ottttther': 'other',\n",
    "           'firefoxxxxxx': 'firefox',\n",
    "           'eddddge':'edge',\n",
    "           'chrooome':'chrome'}\n",
    "df['browser'] = df['browser'].map(dicc_map)"
   ]
  },
  {
   "cell_type": "code",
   "execution_count": 15,
   "metadata": {},
   "outputs": [],
   "source": [
    "df.to_csv(\"../data/data_limpios.csv\", index=False)"
   ]
  }
 ],
 "metadata": {
  "kernelspec": {
   "display_name": "proyecto_ab_amazon",
   "language": "python",
   "name": "python3"
  },
  "language_info": {
   "codemirror_mode": {
    "name": "ipython",
    "version": 3
   },
   "file_extension": ".py",
   "mimetype": "text/x-python",
   "name": "python",
   "nbconvert_exporter": "python",
   "pygments_lexer": "ipython3",
   "version": "3.12.5"
  }
 },
 "nbformat": 4,
 "nbformat_minor": 2
}

{
 "cells": [
  {
   "cell_type": "markdown",
   "metadata": {},
   "source": [
    "# Cosas a limpiar\n",
    "- **Visit_Date** --> cambiar a tipo fecha\n",
    "- **Conversion** --> Cambiar a str??\n",
    "- **Product_category** --> Cambiar a minus\n",
    "- **Product ID** --> Cambiar a num?\n",
    "- **Product Name** --> Cambiar espacio por guíon bajo _\n",
    "- **Price** --> tiene 40 nulos. Cambiar ',' por puntos y poner float.\n",
    "- **Discount** --> tiene 40 nulos. Cambiar ',' por puntos y poner float.\n",
    "- **Total Value** --> Cambiar ',' por puntos y poner float.\n",
    "- **Payment method** --> Parece que tiene muchos nulos\n",
    "- **Shipping method** --> Parece que tiene muchos nulos\n",
    "- **Customer Age** --> Tiene 40 nulos\n",
    "- **Device** --> Escribirlo bien\n",
    "- **Cupon Used** --> Parece que tiene muchos nulos\n",
    "- **Browser** --> Cambiar categorias por estar mal escritas.\n",
    "- **Referal Source** --> Escribirlo bien"
   ]
  },
  {
   "cell_type": "code",
   "execution_count": null,
   "metadata": {},
   "outputs": [],
   "source": [
    "\n",
    "\n"
   ]
  }
 ],
 "metadata": {
  "kernelspec": {
   "display_name": "proyecto_ab_amazon",
   "language": "python",
   "name": "python3"
  },
  "language_info": {
   "name": "python",
   "version": "3.12.5"
  }
 },
 "nbformat": 4,
 "nbformat_minor": 2
}

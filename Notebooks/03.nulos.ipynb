{
 "cells": [
  {
   "cell_type": "code",
   "execution_count": 18,
   "metadata": {},
   "outputs": [],
   "source": [
    "import pandas as pd\n",
    "import matplotlib.pyplot as plt\n",
    "import seaborn as sns"
   ]
  },
  {
   "cell_type": "code",
   "execution_count": 2,
   "metadata": {},
   "outputs": [
    {
     "data": {
      "text/html": [
       "<div>\n",
       "<style scoped>\n",
       "    .dataframe tbody tr th:only-of-type {\n",
       "        vertical-align: middle;\n",
       "    }\n",
       "\n",
       "    .dataframe tbody tr th {\n",
       "        vertical-align: top;\n",
       "    }\n",
       "\n",
       "    .dataframe thead th {\n",
       "        text-align: right;\n",
       "    }\n",
       "</style>\n",
       "<table border=\"1\" class=\"dataframe\">\n",
       "  <thead>\n",
       "    <tr style=\"text-align: right;\">\n",
       "      <th></th>\n",
       "      <th>user_id</th>\n",
       "      <th>group</th>\n",
       "      <th>visit_date</th>\n",
       "      <th>conversion</th>\n",
       "      <th>product_category</th>\n",
       "      <th>product_id</th>\n",
       "      <th>product_name</th>\n",
       "      <th>quantity</th>\n",
       "      <th>price</th>\n",
       "      <th>discount</th>\n",
       "      <th>...</th>\n",
       "      <th>shipping_method</th>\n",
       "      <th>region</th>\n",
       "      <th>customer_age</th>\n",
       "      <th>customer_gender</th>\n",
       "      <th>device</th>\n",
       "      <th>session_duration</th>\n",
       "      <th>coupon_used</th>\n",
       "      <th>browser</th>\n",
       "      <th>referral_source</th>\n",
       "      <th>conversion_str</th>\n",
       "    </tr>\n",
       "  </thead>\n",
       "  <tbody>\n",
       "    <tr>\n",
       "      <th>1092</th>\n",
       "      <td>1093</td>\n",
       "      <td>b</td>\n",
       "      <td>2022-02-02</td>\n",
       "      <td>0</td>\n",
       "      <td>sports</td>\n",
       "      <td>1462</td>\n",
       "      <td>football</td>\n",
       "      <td>0</td>\n",
       "      <td>256.40</td>\n",
       "      <td>0.27</td>\n",
       "      <td>...</td>\n",
       "      <td>NaN</td>\n",
       "      <td>south</td>\n",
       "      <td>34.0</td>\n",
       "      <td>f</td>\n",
       "      <td>mobile</td>\n",
       "      <td>28</td>\n",
       "      <td>NaN</td>\n",
       "      <td>safari</td>\n",
       "      <td>paid</td>\n",
       "      <td>no</td>\n",
       "    </tr>\n",
       "    <tr>\n",
       "      <th>572</th>\n",
       "      <td>573</td>\n",
       "      <td>a</td>\n",
       "      <td>2022-01-19</td>\n",
       "      <td>0</td>\n",
       "      <td>electronics</td>\n",
       "      <td>1444</td>\n",
       "      <td>laptop</td>\n",
       "      <td>0</td>\n",
       "      <td>310.21</td>\n",
       "      <td>0.10</td>\n",
       "      <td>...</td>\n",
       "      <td>NaN</td>\n",
       "      <td>west</td>\n",
       "      <td>18.0</td>\n",
       "      <td>m</td>\n",
       "      <td>desktop</td>\n",
       "      <td>12</td>\n",
       "      <td>NaN</td>\n",
       "      <td>other</td>\n",
       "      <td>organic</td>\n",
       "      <td>no</td>\n",
       "    </tr>\n",
       "  </tbody>\n",
       "</table>\n",
       "<p>2 rows × 22 columns</p>\n",
       "</div>"
      ],
      "text/plain": [
       "      user_id group  visit_date  conversion product_category  product_id  \\\n",
       "1092     1093     b  2022-02-02           0           sports        1462   \n",
       "572       573     a  2022-01-19           0      electronics        1444   \n",
       "\n",
       "     product_name  quantity   price  discount  ...  shipping_method region  \\\n",
       "1092     football         0  256.40      0.27  ...              NaN  south   \n",
       "572        laptop         0  310.21      0.10  ...              NaN   west   \n",
       "\n",
       "     customer_age customer_gender   device session_duration coupon_used  \\\n",
       "1092         34.0               f   mobile               28         NaN   \n",
       "572          18.0               m  desktop               12         NaN   \n",
       "\n",
       "      browser referral_source conversion_str  \n",
       "1092   safari            paid             no  \n",
       "572     other         organic             no  \n",
       "\n",
       "[2 rows x 22 columns]"
      ]
     },
     "execution_count": 2,
     "metadata": {},
     "output_type": "execute_result"
    }
   ],
   "source": [
    "df_o= pd.read_csv(\"../Data/data_limpios.csv\")\n",
    "df_o.sample(2)"
   ]
  },
  {
   "cell_type": "code",
   "execution_count": 3,
   "metadata": {},
   "outputs": [],
   "source": [
    "df =df_o.copy()"
   ]
  },
  {
   "cell_type": "code",
   "execution_count": 7,
   "metadata": {},
   "outputs": [
    {
     "data": {
      "text/plain": [
       "user_id              0.00\n",
       "group                0.00\n",
       "visit_date           0.00\n",
       "conversion           0.00\n",
       "product_category     0.00\n",
       "product_id           0.00\n",
       "product_name         0.00\n",
       "quantity             0.00\n",
       "price                2.00\n",
       "discount             2.00\n",
       "total_value          0.00\n",
       "payment_method      87.65\n",
       "shipping_method     87.65\n",
       "region               0.00\n",
       "customer_age         2.00\n",
       "customer_gender      0.00\n",
       "device               0.00\n",
       "session_duration     0.00\n",
       "coupon_used         87.65\n",
       "browser              0.00\n",
       "referral_source      0.00\n",
       "conversion_str       0.00\n",
       "dtype: float64"
      ]
     },
     "execution_count": 7,
     "metadata": {},
     "output_type": "execute_result"
    }
   ],
   "source": [
    "df.isnull().mean()*100"
   ]
  },
  {
   "cell_type": "code",
   "execution_count": null,
   "metadata": {},
   "outputs": [
    {
     "data": {
      "text/html": [
       "<div>\n",
       "<style scoped>\n",
       "    .dataframe tbody tr th:only-of-type {\n",
       "        vertical-align: middle;\n",
       "    }\n",
       "\n",
       "    .dataframe tbody tr th {\n",
       "        vertical-align: top;\n",
       "    }\n",
       "\n",
       "    .dataframe thead th {\n",
       "        text-align: right;\n",
       "    }\n",
       "</style>\n",
       "<table border=\"1\" class=\"dataframe\">\n",
       "  <thead>\n",
       "    <tr style=\"text-align: right;\">\n",
       "      <th></th>\n",
       "      <th>price</th>\n",
       "      <th>discount</th>\n",
       "      <th>payment_method</th>\n",
       "      <th>shipping_method</th>\n",
       "      <th>customer_age</th>\n",
       "      <th>coupon_used</th>\n",
       "    </tr>\n",
       "  </thead>\n",
       "  <tbody>\n",
       "    <tr>\n",
       "      <th>0</th>\n",
       "      <td>41.27</td>\n",
       "      <td>0.29</td>\n",
       "      <td>NaN</td>\n",
       "      <td>NaN</td>\n",
       "      <td>64.0</td>\n",
       "      <td>NaN</td>\n",
       "    </tr>\n",
       "    <tr>\n",
       "      <th>1</th>\n",
       "      <td>45.45</td>\n",
       "      <td>0.22</td>\n",
       "      <td>NaN</td>\n",
       "      <td>NaN</td>\n",
       "      <td>19.0</td>\n",
       "      <td>NaN</td>\n",
       "    </tr>\n",
       "    <tr>\n",
       "      <th>2</th>\n",
       "      <td>64.81</td>\n",
       "      <td>0.08</td>\n",
       "      <td>NaN</td>\n",
       "      <td>NaN</td>\n",
       "      <td>69.0</td>\n",
       "      <td>NaN</td>\n",
       "    </tr>\n",
       "    <tr>\n",
       "      <th>3</th>\n",
       "      <td>189.40</td>\n",
       "      <td>0.08</td>\n",
       "      <td>credit_card</td>\n",
       "      <td>express</td>\n",
       "      <td>53.0</td>\n",
       "      <td>no</td>\n",
       "    </tr>\n",
       "    <tr>\n",
       "      <th>4</th>\n",
       "      <td>19.82</td>\n",
       "      <td>0.19</td>\n",
       "      <td>NaN</td>\n",
       "      <td>NaN</td>\n",
       "      <td>18.0</td>\n",
       "      <td>NaN</td>\n",
       "    </tr>\n",
       "    <tr>\n",
       "      <th>...</th>\n",
       "      <td>...</td>\n",
       "      <td>...</td>\n",
       "      <td>...</td>\n",
       "      <td>...</td>\n",
       "      <td>...</td>\n",
       "      <td>...</td>\n",
       "    </tr>\n",
       "    <tr>\n",
       "      <th>1995</th>\n",
       "      <td>177.49</td>\n",
       "      <td>0.20</td>\n",
       "      <td>NaN</td>\n",
       "      <td>NaN</td>\n",
       "      <td>25.0</td>\n",
       "      <td>NaN</td>\n",
       "    </tr>\n",
       "    <tr>\n",
       "      <th>1996</th>\n",
       "      <td>109.75</td>\n",
       "      <td>0.20</td>\n",
       "      <td>NaN</td>\n",
       "      <td>NaN</td>\n",
       "      <td>58.0</td>\n",
       "      <td>NaN</td>\n",
       "    </tr>\n",
       "    <tr>\n",
       "      <th>1997</th>\n",
       "      <td>236.05</td>\n",
       "      <td>0.15</td>\n",
       "      <td>NaN</td>\n",
       "      <td>NaN</td>\n",
       "      <td>62.0</td>\n",
       "      <td>NaN</td>\n",
       "    </tr>\n",
       "    <tr>\n",
       "      <th>1998</th>\n",
       "      <td>22.67</td>\n",
       "      <td>0.11</td>\n",
       "      <td>NaN</td>\n",
       "      <td>NaN</td>\n",
       "      <td>46.0</td>\n",
       "      <td>NaN</td>\n",
       "    </tr>\n",
       "    <tr>\n",
       "      <th>1999</th>\n",
       "      <td>47.05</td>\n",
       "      <td>0.22</td>\n",
       "      <td>NaN</td>\n",
       "      <td>NaN</td>\n",
       "      <td>37.0</td>\n",
       "      <td>NaN</td>\n",
       "    </tr>\n",
       "  </tbody>\n",
       "</table>\n",
       "<p>2000 rows × 6 columns</p>\n",
       "</div>"
      ],
      "text/plain": [
       "       price  discount payment_method shipping_method  customer_age  \\\n",
       "0      41.27      0.29            NaN             NaN          64.0   \n",
       "1      45.45      0.22            NaN             NaN          19.0   \n",
       "2      64.81      0.08            NaN             NaN          69.0   \n",
       "3     189.40      0.08    credit_card         express          53.0   \n",
       "4      19.82      0.19            NaN             NaN          18.0   \n",
       "...      ...       ...            ...             ...           ...   \n",
       "1995  177.49      0.20            NaN             NaN          25.0   \n",
       "1996  109.75      0.20            NaN             NaN          58.0   \n",
       "1997  236.05      0.15            NaN             NaN          62.0   \n",
       "1998   22.67      0.11            NaN             NaN          46.0   \n",
       "1999   47.05      0.22            NaN             NaN          37.0   \n",
       "\n",
       "     coupon_used  \n",
       "0            NaN  \n",
       "1            NaN  \n",
       "2            NaN  \n",
       "3             no  \n",
       "4            NaN  \n",
       "...          ...  \n",
       "1995         NaN  \n",
       "1996         NaN  \n",
       "1997         NaN  \n",
       "1998         NaN  \n",
       "1999         NaN  \n",
       "\n",
       "[2000 rows x 6 columns]"
      ]
     },
     "execution_count": 9,
     "metadata": {},
     "output_type": "execute_result"
    }
   ],
   "source": [
    "df_nulos = df.loc[:,df.isnull().sum()>0] #te permite ver las columnas que tengan nulos\n",
    "df_nulos\n",
    "# Si hay porcentage muy alto en columnas categoricas se genera un acategoria nueva"
   ]
  },
  {
   "cell_type": "code",
   "execution_count": 11,
   "metadata": {},
   "outputs": [
    {
     "data": {
      "text/plain": [
       "(2000, 22)"
      ]
     },
     "execution_count": 11,
     "metadata": {},
     "output_type": "execute_result"
    }
   ],
   "source": [
    "df.shape"
   ]
  },
  {
   "cell_type": "markdown",
   "metadata": {},
   "source": [
    "## Nulos categoricas"
   ]
  },
  {
   "cell_type": "code",
   "execution_count": 12,
   "metadata": {},
   "outputs": [
    {
     "name": "stdout",
     "output_type": "stream",
     "text": [
      "<built-in method upper of str object at 0x121284f30>\n"
     ]
    },
    {
     "data": {
      "text/plain": [
       "payment_method\n",
       "bank_transfer       3.65\n",
       "credit_card         3.35\n",
       "paypal              2.85\n",
       "cash_on_delivery    2.50\n",
       "Name: count, dtype: float64"
      ]
     },
     "metadata": {},
     "output_type": "display_data"
    },
    {
     "name": "stdout",
     "output_type": "stream",
     "text": [
      "--------\n",
      "<built-in method upper of str object at 0x120e5e9b0>\n"
     ]
    },
    {
     "data": {
      "text/plain": [
       "shipping_method\n",
       "express     4.50\n",
       "same_day    4.10\n",
       "standard    3.75\n",
       "Name: count, dtype: float64"
      ]
     },
     "metadata": {},
     "output_type": "display_data"
    },
    {
     "name": "stdout",
     "output_type": "stream",
     "text": [
      "--------\n",
      "<built-in method upper of str object at 0x12134f330>\n"
     ]
    },
    {
     "data": {
      "text/plain": [
       "coupon_used\n",
       "no     6.60\n",
       "yes    5.75\n",
       "Name: count, dtype: float64"
      ]
     },
     "metadata": {},
     "output_type": "display_data"
    },
    {
     "name": "stdout",
     "output_type": "stream",
     "text": [
      "--------\n"
     ]
    }
   ],
   "source": [
    "for col in df_nulos.select_dtypes(include=\"O\").columns:\n",
    "  print(col.upper)\n",
    "  display(df_nulos[col].value_counts()/df_nulos.shape[0]*100)\n",
    "  print(\"--------\")"
   ]
  },
  {
   "cell_type": "code",
   "execution_count": null,
   "metadata": {},
   "outputs": [],
   "source": [
    "# no hay ninguno que destaque por lo que se deberia de generar una nueva categoria."
   ]
  },
  {
   "cell_type": "code",
   "execution_count": 27,
   "metadata": {},
   "outputs": [],
   "source": [
    "def subplots_col_cat(dataframe):\n",
    "  categorical_col = dataframe.select_dtypes(include=\"O\").columns\n",
    "  print(categorical_col)\n",
    "  if len(categorical_col)==0:\n",
    "    return\" No hay columnas categoricas\"\n",
    "  # configuracion de los gráficos\n",
    "  num_cols=len(categorical_col)\n",
    "  rows=(num_cols+2)//3 #Saber las filas para 3 columnas.\n",
    "  fig, axes =plt.subplots(rows, 3, figsize= (15, rows*5) )\n",
    "  axes = axes.flatten() # convertir los ejes en 1d para facil iteración\n",
    "  \n",
    "  #Generar los gráficos para cada columna\n",
    "  for i, col in enumerate(categorical_col):\n",
    "    sns.countplot(data=dataframe, x=col, ax=axes[i],hue=col,legend=False)\n",
    "    axes[i].set_title(f'Distribucion de {col}')\n",
    "    \n",
    "  #Eliminar elementos sobrantes de las columnas\n",
    "  for j in range(i+1, len(axes)):\n",
    "    fig.delaxes(axes[j])\n",
    "  plt.tight_layout()\n",
    "  plt.show()\n",
    "    "
   ]
  },
  {
   "cell_type": "code",
   "execution_count": 29,
   "metadata": {},
   "outputs": [
    {
     "name": "stdout",
     "output_type": "stream",
     "text": [
      "Index(['payment_method', 'shipping_method', 'coupon_used'], dtype='object')\n"
     ]
    },
    {
     "data": {
      "image/png": "[encoded data removed]",
      "text/plain": [
       "<Figure size 1500x500 with 3 Axes>"
      ]
     },
     "metadata": {},
     "output_type": "display_data"
    }
   ],
   "source": [
    "subplots_col_cat(df_nulos)"
   ]
  },
  {
   "cell_type": "code",
   "execution_count": 31,
   "metadata": {},
   "outputs": [
    {
     "data": {
      "text/plain": [
       "payment_method     87.65\n",
       "shipping_method    87.65\n",
       "coupon_used        87.65\n",
       "dtype: float64"
      ]
     },
     "execution_count": 31,
     "metadata": {},
     "output_type": "execute_result"
    }
   ],
   "source": [
    "df_nulos.select_dtypes(include=\"O\").isnull().mean()*100"
   ]
  },
  {
   "cell_type": "code",
   "execution_count": 33,
   "metadata": {},
   "outputs": [
    {
     "data": {
      "text/plain": [
       "user_id               0.000000\n",
       "group                 0.000000\n",
       "visit_date            0.000000\n",
       "conversion            0.000000\n",
       "product_category      0.000000\n",
       "product_id            0.000000\n",
       "product_name          0.000000\n",
       "quantity              0.000000\n",
       "price                 1.711352\n",
       "discount              1.939532\n",
       "total_value           0.000000\n",
       "payment_method      100.000000\n",
       "shipping_method     100.000000\n",
       "region                0.000000\n",
       "customer_age          2.110667\n",
       "customer_gender       0.000000\n",
       "device                0.000000\n",
       "session_duration      0.000000\n",
       "coupon_used         100.000000\n",
       "browser               0.000000\n",
       "referral_source       0.000000\n",
       "conversion_str        0.000000\n",
       "dtype: float64"
      ]
     },
     "execution_count": 33,
     "metadata": {},
     "output_type": "execute_result"
    }
   ],
   "source": [
    "df_nocompra=df[df['conversion']==0]\n",
    "df_nocompra.isnull().mean()*100"
   ]
  },
  {
   "cell_type": "markdown",
   "metadata": {},
   "source": [
    "se ha comprobado que los nulos de las columnas categ son debido a que no se ha realizado la compra, por lo que no se ha utuizado ningun cupon, metood de pago y ningun tipo de envio."
   ]
  },
  {
   "cell_type": "code",
   "execution_count": 34,
   "metadata": {},
   "outputs": [],
   "source": [
    "df.loc[:,df.select_dtypes(include=\"O\").columns] = df.select_dtypes(include=\"O\").fillna('no_conversion')"
   ]
  },
  {
   "cell_type": "code",
   "execution_count": 35,
   "metadata": {},
   "outputs": [
    {
     "data": {
      "text/plain": [
       "user_id             0.0\n",
       "group               0.0\n",
       "visit_date          0.0\n",
       "conversion          0.0\n",
       "product_category    0.0\n",
       "product_id          0.0\n",
       "product_name        0.0\n",
       "quantity            0.0\n",
       "price               2.0\n",
       "discount            2.0\n",
       "total_value         0.0\n",
       "payment_method      0.0\n",
       "shipping_method     0.0\n",
       "region              0.0\n",
       "customer_age        2.0\n",
       "customer_gender     0.0\n",
       "device              0.0\n",
       "session_duration    0.0\n",
       "coupon_used         0.0\n",
       "browser             0.0\n",
       "referral_source     0.0\n",
       "conversion_str      0.0\n",
       "dtype: float64"
      ]
     },
     "execution_count": 35,
     "metadata": {},
     "output_type": "execute_result"
    }
   ],
   "source": [
    "df.isnull().mean()*100"
   ]
  }
 ],
 "metadata": {
  "kernelspec": {
   "display_name": "proyecto_ab_amazon",
   "language": "python",
   "name": "python3"
  },
  "language_info": {
   "codemirror_mode": {
    "name": "ipython",
    "version": 3
   },
   "file_extension": ".py",
   "mimetype": "text/x-python",
   "name": "python",
   "nbconvert_exporter": "python",
   "pygments_lexer": "ipython3",
   "version": "3.12.5"
  }
 },
 "nbformat": 4,
 "nbformat_minor": 2
}
